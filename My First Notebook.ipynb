{
 "cells": [
  {
   "cell_type": "code",
   "execution_count": 1,
   "id": "e32d9ef2-347a-467a-81da-780dd2d58de2",
   "metadata": {},
   "outputs": [
    {
     "name": "stdout",
     "output_type": "stream",
     "text": [
      "%pylab is deprecated, use %matplotlib inline and import the required libraries.\n",
      "Populating the interactive namespace from numpy and matplotlib\n"
     ]
    }
   ],
   "source": [
    "%pylab qt"
   ]
  },
  {
   "cell_type": "markdown",
   "id": "cc313aca-9ef0-4096-b66c-205d4c4a39fd",
   "metadata": {},
   "source": [
    "# My first notebook\n",
    "\n",
    "## This is a subtitle\n",
    "\n",
    "$a_2 = b^2$\n",
    "\n",
    "$\\LaTeX$"
   ]
  },
  {
   "cell_type": "code",
   "execution_count": 1,
   "id": "52f92baf-f39a-4e50-884d-b9fec3ff9469",
   "metadata": {},
   "outputs": [
    {
     "name": "stdout",
     "output_type": "stream",
     "text": [
      "0\n",
      "1\n",
      "2\n",
      "3\n",
      "4\n",
      "5\n",
      "6\n",
      "7\n",
      "8\n",
      "9\n"
     ]
    }
   ],
   "source": [
    "for i in range(10):\n",
    "    print(i)"
   ]
  },
  {
   "cell_type": "code",
   "execution_count": 6,
   "id": "80150571-c489-471c-883f-5de7f4ddebfd",
   "metadata": {},
   "outputs": [
    {
     "data": {
      "text/plain": [
       "<matplotlib.collections.PathCollection at 0x7f24b9c28550>"
      ]
     },
     "execution_count": 6,
     "metadata": {},
     "output_type": "execute_result"
    }
   ],
   "source": [
    "a = []\n",
    "for i in range(100):\n",
    "    a.append(randint(100))\n",
    "\n",
    "x = arange(len(a))\n",
    "scatter(x, a)"
   ]
  },
  {
   "cell_type": "code",
   "execution_count": null,
   "id": "f393ff4e-fbf9-4571-99d5-62da96820fc3",
   "metadata": {},
   "outputs": [],
   "source": []
  }
 ],
 "metadata": {
  "kernelspec": {
   "display_name": "Python 3 (ipykernel)",
   "language": "python",
   "name": "python3"
  },
  "language_info": {
   "codemirror_mode": {
    "name": "ipython",
    "version": 3
   },
   "file_extension": ".py",
   "mimetype": "text/x-python",
   "name": "python",
   "nbconvert_exporter": "python",
   "pygments_lexer": "ipython3",
   "version": "3.11.3"
  }
 },
 "nbformat": 4,
 "nbformat_minor": 5
}
